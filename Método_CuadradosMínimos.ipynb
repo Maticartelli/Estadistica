{
 "cells": [
  {
   "cell_type": "markdown",
   "metadata": {},
   "source": [
    "<center> <h1>Entrega computacional n°3</h1></center>\n",
    "\n",
    "<center> <h2>Matias Cartelli</h2> </center>\n",
    "\n",
    "<b>Libreta:</b> 280/17\n"
   ]
  },
  {
   "cell_type": "code",
   "execution_count": 2,
   "metadata": {},
   "outputs": [],
   "source": [
    "import numpy as np\n",
    "import matplotlib.pyplot as plt\n",
    "import scipy.stats as stats\n",
    "from IPython.display import display, Markdown, Latex"
   ]
  },
  {
   "cell_type": "markdown",
   "metadata": {},
   "source": [
    " ## Consignas del TP:\n",
    "\n",
    "<b> I.</b> Resuelva  el  problema  8  de  la  guía  6  y  presente  un  breve  informe  con  los  resultados obtenidos en los ítems c, d y e. \n",
    "\n",
    "<b> II.</b> Acompañe el ítem d con la verificación numérica que se propone en el problema 9 de la misma guía."
   ]
  },
  {
   "cell_type": "markdown",
   "metadata": {},
   "source": [
    "## Problema 8\n",
    "\n",
    "Considere $N$ mediciones $(y_i,x_i)$ donde los $y_i$ son independientes y todos con el mismo error $\\sigma$, ésto es, $Cov(Y_i,Y_j)=\\delta_{ij}\\sigma^2$, donde $\\delta_{ij}$ es la delta de Kronecker. En este caso los $x_i$ son números sin error (no son variables aleatorias). Los parámetros de la recta $y=a_1 +a_2 x$ que mejor ajusta a los datos surgen de minimizar la suma $S_N=\\sum_i^N [y_i-(a_1+a_2 x_i)]^2$, obteniéndose la conocida fórmula de cuadrados mínimos\n",
    "\n",
    "$$\\hat{a}_1=\\frac{(\\Sigma x_i^2\\Sigma y_i-\\Sigma x_i \\Sigma x_i y_i)}{\\Delta}$$\n",
    "$$\\hat{a}_2=\\frac{(N \\Sigma x_i y_i-\\Sigma x_i \\Sigma y_i)}{\\Delta}$$\n",
    "\n",
    "con $\\Delta=N \\Sigma x_i^2-(\\Sigma x_i)^2$.\n",
    "\n",
    "\n",
    "<b>(a) </b> Usando la fórmula de propagación de errores muestre que la matriz de covarianza de los parámetros de\n",
    "la recta es\n",
    "\n",
    "$$Cov(\\hat{a}_1,\\hat{a}_2)=\\frac{\\sigma^2}{\\Delta}\\begin{pmatrix}\\Sigma x_i^2 & -\\Sigma x_i\\\\ -\\Sigma x_i & N\\end{pmatrix}$$\n",
    "\n",
    "<b> (b) </b> Analice intuitivamente por qué la correlación es negativa si el promedio de los datos está del lado\n",
    "positivo de la abscisa, positiva en el caso contrario, y por qué la pendiente y la ordenada al origen no\n",
    "están correlacionadas si $\\Sigma x_i=0$.\n",
    " \n",
    "\n",
    "Ayuda: puede ser útil usar que la recta ajustada $y=\\hat{a}_1+\\hat{a}_2 x$, pasa por el punto $(\\overline{x},\\overline{y})$.\n",
    "\n",
    "<b> (c) </b> Encuentre, con su error, los  parámetros de la recta que mejor ajusta los siguientes datos, con $\\sigma=0.3$. Grafique los datos, con su error, y la recta obtenida para $0\\leq x\\leq 5$.\n",
    "\n",
    "| X | 2.00 | 2.10 | 2.20 | 2.30 | 2.40 | 2.50 | 2.60 | 2.70 | 2.80 | 2.90 | 3.00 |\n",
    "|:-:|------|------|------|------|------|------|------|------|------|------|------|\n",
    "| Y | 2.78 | 3.29 | 3.29 | 3.33 | 3.23 | 3.69 | 3.46 | 3.87 | 3.62 | 3.40 | 3.99 |\n",
    "\n",
    "<b> (d) </b> A partir de esta recta prediga, con su error, el valor esperado $y_a$ para un cierto $x_a$. No  olvide usar la matriz de covarianza completa. Grafique $y_a(x_a)$, y agréguelo al gráfico anterior en forma de banda de error. Encuentre qué valor de $x_a$ minimiza el error de $y_a$, e interprete la magnitud de este valor mínimo. Discuta por qué el error aumenta para valores de $x_a$ alejados de la región donde se hicieron las mediciones.\n",
    "\n",
    "<b> (e) </b>  Grafique la banda de error que obtiene si ignora el término de correlación en la propagación de errores y discuta por qué ésta es claramente errónea."
   ]
  },
  {
   "cell_type": "markdown",
   "metadata": {},
   "source": [
    "### Resolución de los incisos <b>(c)</b>, <b>(d)</b> y <b>(e)</b> del problema 8"
   ]
  },
  {
   "cell_type": "markdown",
   "metadata": {},
   "source": [
    "<h3> (c) </h3>\n",
    "\n",
    "Usando el resultado del inciso <b>(a)</b> sabemos que el error de los parámetros son\n",
    "\n",
    "$$\\sigma_{\\hat{a_1}} = \\sqrt{Var(\\hat{a_1})} = \\frac{\\sigma}{\\sqrt{\\Delta}} \\sqrt{\\Sigma x_i^2}$$\n",
    "$$\\sigma_{\\hat{a_2}} = \\sqrt{V(\\hat{a_2})} = \\frac{\\sigma}{\\sqrt{\\Delta}} \\sqrt{N}$$\n",
    "\n"
   ]
  },
  {
   "cell_type": "code",
   "execution_count": 3,
   "metadata": {},
   "outputs": [
    {
     "data": {
      "image/png": "[encoded data removed]",
      "text/plain": [
       "<Figure size 432x288 with 1 Axes>"
      ]
     },
     "metadata": {
      "needs_background": "light"
     },
     "output_type": "display_data"
    }
   ],
   "source": [
    "#Definimos los parámetros del problema\n",
    "Sigma= 0.3\n",
    "X = np.array([2.00,2.10,2.20,2.30,2.40,2.50,2.60,2.70,2.80,2.90,3.00])\n",
    "Y = np.array([2.78,3.29,3.29,3.33,3.23,3.69,3.46,3.87,3.62,3.40,3.99])\n",
    "N = len(X)\n",
    "\n",
    "#Definimos los valores para Delta, a_1, a_2\n",
    "Delta = N*np.sum(X*X)- (np.sum(X))**2\n",
    "a1 = (np.sum(X*X) * np.sum(Y) - np.sum(X)* np.sum(X*Y))/Delta\n",
    "a2 = (np.sum(X*Y)*N- np.sum(Y)*np.sum(X))/Delta\n",
    "\n",
    "#Errores de los a1, a2\n",
    "erra1 = np.sqrt((np.sum(X*X))*(Sigma**2/Delta))\n",
    "erra2 = np.sqrt(N*(Sigma**2/Delta))\n",
    "\n",
    "#Definimos la recta con su dominio\n",
    "x = np.linspace(0,5,100)\n",
    "y=a1+a2*x\n",
    "\n",
    "#Ploteo\n",
    "plt.plot(x,y,color=\"orange\", label=\"$y(x)$\")\n",
    "plt.errorbar(X,Y,yerr=Sigma,fmt=\".\",color=\"C0\",ecolor=\"black\",capsize=2,label=\"Datos\")\n",
    "plt.ylabel(\"Y\")\n",
    "plt.xlabel(\"X\")\n",
    "plt.legend()\n",
    "plt.grid(True)\n",
    "plt.show()"
   ]
  },
  {
   "cell_type": "code",
   "execution_count": 4,
   "metadata": {
    "scrolled": true
   },
   "outputs": [
    {
     "data": {
      "text/markdown": [
       "Obtenemos así los valores para $\\hat{a_1}$,$\\hat{a_2}$: <br> $\\hat{a_1}=$ 1.452$\\pm$0.721<br>$\\hat{a_2}= $ 0.799$\\pm$0.286"
      ],
      "text/plain": [
       "<IPython.core.display.Markdown object>"
      ]
     },
     "metadata": {},
     "output_type": "display_data"
    }
   ],
   "source": [
    "display(Markdown(\"Obtenemos así los valores para $\\hat{a_1}$,$\\hat{a_2}$: <br> $\\hat{a_1}=$ \"+str(np.around(a1,3))+\"$\\pm$\"+str(np.around(erra1,3))+\"<br>$\\hat{a_2}= $ \"+str(np.around(a2,3))+\"$\\pm$\"+str(np.around(erra2,3))))"
   ]
  },
  {
   "cell_type": "markdown",
   "metadata": {},
   "source": [
    "Vemos que la recta con estos parámetros ajusta correctamente a los datos."
   ]
  },
  {
   "cell_type": "markdown",
   "metadata": {},
   "source": [
    "<h3> (d) </h3>\n",
    "\n",
    "Vemos cual es el error $Var (y_a)$ sabiendo que $y_a = \\hat{a_1} + x_a \\hat{a_2}$, entonces\n",
    "\n",
    "$$ Var(y_a) = \\left(\\frac{\\partial y_a}{\\partial \\hat{a_1}}\\right)^2 Var(\\hat{a_1}) + \\left(\\frac{\\partial y_a}{\\partial \\hat{a_2}}\\right)^2 Var(\\hat{a_2}) + 2 \\frac{\\partial y_a}{\\partial \\hat{a_1}}\\frac{\\partial y_a}{\\partial \\hat{a_2}} Cov(\\hat{a_1},\\hat{a_2}),$$\n",
    "\n",
    "sabemos que \n",
    "\n",
    "$$\\begin{cases}\n",
    "    \\frac{\\partial y_a}{\\partial \\hat{a_1}} = 1\\\\\n",
    "    \\frac{\\partial y_a}{\\partial \\hat{a_1}}=x_a\\\\  \n",
    "    Var(\\hat{a_1}) = \\frac{\\sigma^2}{\\Delta}\\Sigma x_i^2\\\\ \n",
    "    Cov(\\hat{a_1},\\hat{a_2}) = - \\frac{\\sigma^2}{\\Delta} \\Sigma x_i\\\\ \n",
    "    Var(\\hat{a_2}) = \\frac{\\sigma^2}{\\Delta} N\n",
    "    \\end{cases}$$\n",
    "    \n",
    "entonces tenemos\n",
    "\n",
    "$$\\boxed{Var(y_a) =  \\frac{\\sigma^2}{\\Delta}\\left(\\Sigma x_i^2 +   x_a^2 N -  2 x_a \\Sigma x_i\\right)}$$\n"
   ]
  },
  {
   "cell_type": "code",
   "execution_count": 5,
   "metadata": {},
   "outputs": [
    {
     "data": {
      "image/png": "[encoded data removed]",
      "text/plain": [
       "<Figure size 432x288 with 1 Axes>"
      ]
     },
     "metadata": {
      "needs_background": "light"
     },
     "output_type": "display_data"
    }
   ],
   "source": [
    "#Definimos la varianza de y\n",
    "var_y = (Sigma**2/Delta)*(np.sum(X*X)+x**2 * N - 2*x* np.sum(X))\n",
    "\n",
    "#Ploteo\n",
    "plt.plot(x,y,color=\"orange\", label=\"$y_a(x)$\")\n",
    "plt.fill_between(x,y- np.sqrt(var_y),y+np.sqrt(var_y),alpha=0.2, label=\"Banda de error $y_a$\")\n",
    "plt.errorbar(X,Y,yerr=Sigma,fmt=\".\",color=\"C0\",ecolor=\"black\",capsize=2,label=\"Datos\")\n",
    "plt.ylabel(\"Y\")\n",
    "plt.xlabel(\"X\")\n",
    "plt.legend()\n",
    "plt.grid(True)\n",
    "plt.show()"
   ]
  },
  {
   "cell_type": "markdown",
   "metadata": {},
   "source": [
    "Notamos ahora que el error se achica en el centro (donde se encuentran los datos) y crece a medida que nos alejamos de estos. Esto nos dice que conocemos mejor la recta en la zona donde tenemos la información (los datos)."
   ]
  },
  {
   "cell_type": "code",
   "execution_count": 6,
   "metadata": {},
   "outputs": [
    {
     "data": {
      "text/markdown": [
       "Ahora evaluando en $x_a = 0.5$ obtenemos valor esperado de $y_a$, tal que <br>$y_a =$ 1.852 $\\pm$ 0.579"
      ],
      "text/plain": [
       "<IPython.core.display.Markdown object>"
      ]
     },
     "metadata": {},
     "output_type": "display_data"
    }
   ],
   "source": [
    "ya = a1+a2*0.5\n",
    "errya = np.sqrt((Sigma**2/Delta)*(np.sum(X*X)+0.5**2 * N - 2*0.5* np.sum(X)))\n",
    "display(Markdown(\"Ahora evaluando en $x_a = 0.5$ obtenemos valor esperado de $y_a$, tal que <br>$y_a =$ \"+ str(round(ya,3))+\" $\\pm$ \"+str(round(errya,3))))"
   ]
  },
  {
   "cell_type": "markdown",
   "metadata": {},
   "source": [
    "Ahora si queremos hallar el $x_a$ que minimiza el error, derivamos e igualamos a cero, de forma que\n",
    "\n",
    "$$\\frac{\\partial}{\\partial x_a} (Var(y_a)) = 0$$\n",
    "\n",
    "$$\\frac{\\sigma^2}{\\Delta}(2x_{am} N- 2\\Sigma x_i) = 0$$\n",
    "\n",
    "$$\\boxed{x_{am} = \\frac{\\Sigma x_i}{N}}$$\n",
    "\n",
    "Notamos que el valor de $x_a$ que minimiza corresponde con el promedio de $x$. Esto tiene sentido ya que en el anterior gráfico observamos que en la región del centro el error es menor. Con esto podemos decir que los datos siguen una distribución lineal y que el mínimo error se encuentra en el centro del set de datos."
   ]
  },
  {
   "cell_type": "markdown",
   "metadata": {},
   "source": [
    "<h3> (e)</h3>\n"
   ]
  },
  {
   "cell_type": "code",
   "execution_count": 6,
   "metadata": {},
   "outputs": [
    {
     "data": {
      "image/png": "[encoded data removed]",
      "text/plain": [
       "<Figure size 432x288 with 1 Axes>"
      ]
     },
     "metadata": {
      "needs_background": "light"
     },
     "output_type": "display_data"
    }
   ],
   "source": [
    "#Definimos la varianza de y sin el término de covarianza\n",
    "var_y = (Sigma**2/Delta)*(np.sum(X*X)+x**2 * N)\n",
    "\n",
    "#Ploteo\n",
    "plt.plot(x,y,color=\"orange\", label=\"$y_a(x)$\")\n",
    "plt.fill_between(x,y- np.sqrt(var_y),y+np.sqrt(var_y),alpha=0.2, label=\"Banda de error $y_a$\")\n",
    "plt.errorbar(X,Y,yerr=Sigma,fmt=\".\",color=\"C0\",ecolor=\"black\",capsize=2,label=\"Datos\")\n",
    "plt.ylabel(\"Y\")\n",
    "plt.xlabel(\"X\")\n",
    "plt.legend()\n",
    "plt.grid(True)\n",
    "plt.show()"
   ]
  },
  {
   "cell_type": "markdown",
   "metadata": {},
   "source": [
    "En este caso no consideramos que los parámetros no son independientes.\n",
    "Vemos que la banda de error no se achica en el centro como en el inciso <b>(d)</b>, ahora crece a medida que avanzamos en X. Esto no tiene sentido, ya que los datos parecen no influir en nada en el error. Cerca de los datos deberíamos conocer mejor como es la recta.   "
   ]
  },
  {
   "cell_type": "markdown",
   "metadata": {},
   "source": [
    "## Problema 9\n",
    "Verifique los resultados analíticos obtenidos en el ítem <b>8d</b> escribiendo un programa que realice la siguiente simulación numérica:\n",
    "\n",
    "<b> I.</b> para cada $x_i$ genere al azar un $y_i$ de la distribución gaussiana $N(\\hat{a_1}+\\hat{a_2}x_i,\\sigma)$.\n",
    "\n",
    "<b> II.</b> ajuste una recta a los $(x_i,y_i)$ generados, y prediga el valor $y_a$ para $x_a= 0.5$.\n",
    "\n",
    "Repita 1000 veces los pasos <b>I, II</b>, construyendo un histograma con los valores de $y_a$, y dibuje sobre éste la gaussiana con el valor esperado y el error de $y_a$ calculado teóricamente en <b>8d</b>."
   ]
  },
  {
   "cell_type": "markdown",
   "metadata": {},
   "source": [
    "Definimos la función que realizará los pasos <b>I,II</b>:"
   ]
  },
  {
   "cell_type": "code",
   "execution_count": 7,
   "metadata": {},
   "outputs": [],
   "source": [
    "'''\n",
    "\n",
    "Definimos la función f que toma como input al valor de x_a y n cantidad de valores y_a que queremos. Esta realiza los pasos\n",
    "I y II n cantidad de veces y guarda los valores de y_a evaluadas en x_a en un array.\n",
    "\n",
    "'''\n",
    "def f(x,n):\n",
    "    \n",
    "    #Defino los parámetros que se mantienen constantes en los pasos I y II\n",
    "    Sigma= 0.3\n",
    "    X = np.array([2.00,2.10,2.20,2.30,2.40,2.50,2.60,2.70,2.80,2.90,3.00])\n",
    "    N = len(X)\n",
    "    Delta = N*np.sum(X*X)- (np.sum(X))**2\n",
    "    \n",
    "    #Defino lo que será el array que contenga los n valores para y_a evaluados en x.\n",
    "    y_9 = np.zeros(n)\n",
    "    \n",
    "    '''\n",
    "    Lo siguiente realiza los pasos I y II. Me genero n set de datos Y, de la misma longitud que X, que sigan la distribución \n",
    "    gaussiana correspondiente y para cada set de datos busco el valor de la recta que los ajusta evaluada en x.\n",
    "    Estos valores son guardados en un array, el cual es el que devuelve la función.\n",
    "    '''\n",
    "    for i in range(n):\n",
    "        \n",
    "        #Creo un array de la longitud de X con valores que siguen distribución gaussiana.\n",
    "        Y_9 = np.array(np.random.normal(a1+a2*X,Sigma)) \n",
    "        \n",
    "        #Defino los nuevos a1 y a2, con respecto a mi nuevo set de datos.\n",
    "        a19 = (np.sum(X*X) * np.sum(Y_9) - np.sum(X)* np.sum(X*Y_9))/Delta\n",
    "        a29 = (np.sum(X*Y_9)*N- np.sum(Y_9)*np.sum(X))/Delta\n",
    "        \n",
    "        #Defino la recta para cada set de datos\n",
    "        y_9[i] = a19+a29*x\n",
    "    \n",
    "    return y_9"
   ]
  },
  {
   "cell_type": "markdown",
   "metadata": {},
   "source": [
    "Ahora hacemos el histograma, con su gráfico y la gaussiana teórica.\n",
    "\n",
    "Para las barras de error sigo lo explicado en la primera entrega computacional, sabemos que las alturas de cada bin siguen una distribución de Poisson, luego el error será la raíz de la altura correspondiente (que tomamos como esperanza) dividida por la cantidad de datos para normalizar y el ancho de los bins (ya que no son de ancho 1). En este caso la altura de los bins la calculamos ya normalizada entonces solo hay que dividir por la raíz de la cantidad de datos tal que\n",
    "\n",
    "$$\\sigma = \\frac{\\sqrt{Y}}{N \\ a}= \\sqrt{\\frac{Y_n}{N \\ a}},$$\n",
    "\n",
    "donde $Y$ es la altura de los bins, $a$ el ancho del bin, $N$ la cantidad de datos, $Y_n= \\frac{Y}{N \\ a}$ la altura normalizada."
   ]
  },
  {
   "cell_type": "code",
   "execution_count": 11,
   "metadata": {},
   "outputs": [
    {
     "data": {
      "image/png": "[encoded data removed]",
      "text/plain": [
       "<Figure size 432x288 with 1 Axes>"
      ]
     },
     "metadata": {
      "needs_background": "light"
     },
     "output_type": "display_data"
    }
   ],
   "source": [
    "\n",
    "#Llamamos y_a al array con los valores para y_a evaluados en x_a=0.5\n",
    "y_a = f(.5,1000)\n",
    "\n",
    "#Realizamos el histograma\n",
    "bins= np.arange(-1,5,.3)#Defino la cantidad de bins.\n",
    "Y0=plt.hist(y_a,bins=bins,density=True,ec=\"k\",label= \"Simulación numérica\")[0]#Defino las alturas de los bins. \n",
    "\n",
    "#Ploteo los errores del histograma\n",
    "'''\n",
    "\n",
    "Acá pongo como input, los bins pero resto 1 a la cantidad de bins y le sumo la mitad del ancho de estos para\n",
    "centrar las barras de error, luego toma las alturas que en este caso las definí como Y0 y el error como se explicó anteriormente.  \n",
    "\n",
    "'''\n",
    "plt.errorbar(np.delete(bins,-1)+ np.diff(bins)/2,Y0,fmt='none',yerr=np.sqrt(Y0/(len(y_a)*np.diff(bins))), capsize=2,color= \"black\")\n",
    "\n",
    "\n",
    "#Ploteo la gaussiana teórica\n",
    "plt.plot(x,stats.norm.pdf(x,ya,errya),label= \"Gaussiana teórica\")\n",
    "\n",
    "\n",
    "plt.ylabel(\"Frecuencia de $y_a(0.5)$\")\n",
    "plt.xlabel(\"Valores posibles de $y_a(0.5)$\")\n",
    "plt.legend()\n",
    "plt.show()"
   ]
  },
  {
   "cell_type": "markdown",
   "metadata": {},
   "source": [
    "Notamos que la gaussiana obtenida con el valor esperado y el error de $y_a$ obtenidos en el <b>8d</b> coincide correctamente con la simulación numérica."
   ]
  },
  {
   "cell_type": "code",
   "execution_count": null,
   "metadata": {},
   "outputs": [],
   "source": []
  }
 ],
 "metadata": {
  "kernelspec": {
   "display_name": "Python 3",
   "language": "python",
   "name": "python3"
  },
  "language_info": {
   "codemirror_mode": {
    "name": "ipython",
    "version": 3
   },
   "file_extension": ".py",
   "mimetype": "text/x-python",
   "name": "python",
   "nbconvert_exporter": "python",
   "pygments_lexer": "ipython3",
   "version": "3.8.3"
  }
 },
 "nbformat": 4,
 "nbformat_minor": 4
}
